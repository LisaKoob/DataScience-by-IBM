{
 "cells": [
  {
   "cell_type": "markdown",
   "id": "416a8161-a1f5-496f-9dc3-7982235fb871",
   "metadata": {},
   "source": [
    "# Data Science Tools and Ecosystem"
   ]
  },
  {
   "cell_type": "markdown",
   "id": "cb99e6c0-a394-47a6-95c5-e4ebf5ba673f",
   "metadata": {},
   "source": [
    "## Author\n",
    "Lisa Koob"
   ]
  },
  {
   "cell_type": "markdown",
   "id": "78a74d05-a5d3-48e1-a9d9-1db8a153cc8a",
   "metadata": {},
   "source": [
    "In this notebook, Data Science Tools and Ecosystems are summarized."
   ]
  },
  {
   "cell_type": "markdown",
   "id": "ef1f53ec-9dba-4c08-9311-d0c7205566fc",
   "metadata": {},
   "source": [
    "**Objectives:**\n",
    "- List popular languages for Data Science\n",
    "- List popular libraries for Data Science\n",
    "- Perform arithmetic calculations in Python\n",
    "- Generate Lists in Jupyter"
   ]
  },
  {
   "cell_type": "markdown",
   "id": "e4e69ca2-1744-47d6-a958-855c82bf4d4c",
   "metadata": {},
   "source": [
    "Some of the popular languages that Data Scientists use are:\n",
    "\n",
    "1. Python\n",
    "2. R\n",
    "3. Julia\n",
    "4. C++\n",
    "5. Java"
   ]
  },
  {
   "cell_type": "markdown",
   "id": "d6284734-559f-4986-b282-4c1242dcb3c4",
   "metadata": {},
   "source": [
    "Some of the commonly used libraries used by Data Scientists include:\n",
    "1. ggplot2\n",
    "2. NumPy\n",
    "3. Matplotlib\n",
    "4. Tensorflow\n",
    "5. Scikit-learn\n",
    "6. dplyr"
   ]
  },
  {
   "cell_type": "markdown",
   "id": "9cb9e0fe-2747-400e-b7e8-42f539792aa5",
   "metadata": {},
   "source": [
    "Some commonly used Data Science Tools are:\n",
    "\n",
    "|Data Science Tools|\n",
    "|---------|\n",
    "|Hadoop|\n",
    "|Jupyter Notebook|\n",
    "|RStudio|\n",
    "|Spark clusters|"
   ]
  },
  {
   "cell_type": "markdown",
   "id": "3e62e091-a965-4d45-88f8-fdf0e8139b50",
   "metadata": {},
   "source": [
    "### Below are a few examples of evaluating arithmetic expressions in Python."
   ]
  },
  {
   "cell_type": "code",
   "execution_count": 3,
   "id": "0f3c39ba-07a8-4fe7-a44f-b611bbea3c8d",
   "metadata": {
    "tags": []
   },
   "outputs": [
    {
     "data": {
      "text/plain": [
       "17"
      ]
     },
     "execution_count": 3,
     "metadata": {},
     "output_type": "execute_result"
    }
   ],
   "source": [
    "#This is a simple arithmetic expression to multiply then add integers:\n",
    "(3*4)+5"
   ]
  },
  {
   "cell_type": "code",
   "execution_count": 4,
   "id": "8dabf9e0-bad0-419c-8c5a-4af4ce5d898c",
   "metadata": {
    "tags": []
   },
   "outputs": [
    {
     "data": {
      "text/plain": [
       "3.3333333333333335"
      ]
     },
     "execution_count": 4,
     "metadata": {},
     "output_type": "execute_result"
    }
   ],
   "source": [
    "#This will convert 200 minutes to hours by dividing by 60:\n",
    "200/60"
   ]
  },
  {
   "cell_type": "markdown",
   "id": "02a676dc-8dcb-4066-850e-3951daa3074d",
   "metadata": {},
   "source": []
  }
 ],
 "metadata": {
  "kernelspec": {
   "display_name": "Python",
   "language": "python",
   "name": "conda-env-python-py"
  },
  "language_info": {
   "codemirror_mode": {
    "name": "ipython",
    "version": 3
   },
   "file_extension": ".py",
   "mimetype": "text/x-python",
   "name": "python",
   "nbconvert_exporter": "python",
   "pygments_lexer": "ipython3",
   "version": "3.7.12"
  }
 },
 "nbformat": 4,
 "nbformat_minor": 5
}
